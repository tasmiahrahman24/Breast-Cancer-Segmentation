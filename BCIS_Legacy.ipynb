{
  "nbformat": 4,
  "nbformat_minor": 0,
  "metadata": {
    "colab": {
      "provenance": [],
      "gpuType": "T4"
    },
    "kernelspec": {
      "name": "python3",
      "display_name": "Python 3"
    },
    "language_info": {
      "name": "python"
    },
    "accelerator": "GPU"
  },
  "cells": [
    {
      "cell_type": "code",
      "execution_count": null,
      "metadata": {
        "colab": {
          "base_uri": "https://localhost:8080/"
        },
        "id": "DRmSci9Mp4DQ",
        "outputId": "bad15019-5243-42b8-dcf4-8bc529a911f6"
      },
      "outputs": [
        {
          "output_type": "stream",
          "name": "stdout",
          "text": [
            "Mounted at /content/drive\n"
          ]
        }
      ],
      "source": [
        "from google.colab import drive\n",
        "drive.mount('/content/drive')"
      ]
    },
    {
      "cell_type": "code",
      "source": [
        "from IPython.display import clear_output\n",
        "!pip install tf_explain\n",
        "clear_output()\n"
      ],
      "metadata": {
        "id": "MWWXQviFrkn6"
      },
      "execution_count": null,
      "outputs": []
    },
    {
      "cell_type": "code",
      "source": [
        "# common\n",
        "import os\n",
        "import keras\n",
        "import numpy as np\n",
        "import pandas as pd\n",
        "from glob import glob\n",
        "import tensorflow as tf\n",
        "import tensorflow.image as tfi\n",
        "\n",
        "# Data\n",
        "from keras.preprocessing.image import load_img, img_to_array\n",
        "from tensorflow.keras.utils import to_categorical\n",
        "\n",
        "# Data Viz\n",
        "import matplotlib.pyplot as plt\n",
        "\n",
        "# Model\n",
        "from keras.models import Model\n",
        "from keras.layers import Layer\n",
        "from keras.layers import Conv2D\n",
        "from keras.layers import Dropout\n",
        "from keras.layers import UpSampling2D\n",
        "from keras.layers import concatenate\n",
        "from keras.layers import Add\n",
        "from keras.layers import Multiply\n",
        "from keras.layers import Input\n",
        "from keras.layers import MaxPool2D\n",
        "from keras.layers import BatchNormalization\n",
        "\n",
        "# Callbacks\n",
        "from keras.callbacks import Callback\n",
        "from keras.callbacks import EarlyStopping, ReduceLROnPlateau\n",
        "from keras.callbacks import ModelCheckpoint\n",
        "from tf_explain.core.grad_cam import GradCAM\n",
        "\n",
        "# Metrics\n",
        "from keras.metrics import MeanIoU"
      ],
      "metadata": {
        "id": "PPsVhxP_rnBA"
      },
      "execution_count": null,
      "outputs": []
    },
    {
      "cell_type": "code",
      "source": [
        "def load_image(image, SIZE):\n",
        "    return np.round(tfi.resize(img_to_array(load_img(image))/255.,(SIZE, SIZE)),4)\n",
        "\n",
        "def load_images(image_paths, SIZE, mask=False, trim=None):\n",
        "    if trim is not None:\n",
        "        image_paths = image_paths[:trim]\n",
        "\n",
        "    if mask:\n",
        "        images = np.zeros(shape=(len(image_paths), SIZE, SIZE, 1))\n",
        "    else:\n",
        "        images = np.zeros(shape=(len(image_paths), SIZE, SIZE, 3))\n",
        "\n",
        "    for i,image in enumerate(image_paths):\n",
        "        img = load_image(image,SIZE)\n",
        "        if mask:\n",
        "            images[i] = img[:,:,:1]\n",
        "        else:\n",
        "            images[i] = img\n",
        "\n",
        "    return images"
      ],
      "metadata": {
        "id": "aRMSSvnAsBqU"
      },
      "execution_count": null,
      "outputs": []
    },
    {
      "cell_type": "code",
      "source": [
        "def show_image(image, title=None, cmap=None, alpha=1):\n",
        "    plt.imshow(image, cmap=cmap, alpha=alpha)\n",
        "    if title is not None:\n",
        "        plt.title(title)\n",
        "    plt.axis('off')\n",
        "\n",
        "def show_mask(image, mask, cmap=None, alpha=0.4):\n",
        "    plt.imshow(image)\n",
        "    plt.imshow(tf.squeeze(mask), cmap=cmap, alpha=alpha)\n",
        "    plt.axis('off')"
      ],
      "metadata": {
        "id": "0f5b-PR5sGzc"
      },
      "execution_count": null,
      "outputs": []
    },
    {
      "cell_type": "code",
      "source": [
        "root_path = '/content/drive/MyDrive/Dataset_BUSI_with_GT/'\n",
        "classes = sorted(os.listdir(root_path))\n",
        "classes"
      ],
      "metadata": {
        "colab": {
          "base_uri": "https://localhost:8080/"
        },
        "id": "IzXm19kOsLnh",
        "outputId": "0252f630-5300-4bfa-a20b-51ecc2289119"
      },
      "execution_count": null,
      "outputs": [
        {
          "output_type": "execute_result",
          "data": {
            "text/plain": [
              "['benign', 'malignant', 'normal']"
            ]
          },
          "metadata": {},
          "execution_count": 6
        }
      ]
    },
    {
      "cell_type": "code",
      "source": [
        "single_mask_paths = sorted([sorted(glob(root_path + name + \"/*mask.png\")) for name in classes])\n",
        "double_mask_paths = sorted([sorted(glob(root_path + name + \"/*mask_1.png\")) for name in classes])"
      ],
      "metadata": {
        "id": "tnLLOFM2sOOS"
      },
      "execution_count": null,
      "outputs": []
    },
    {
      "cell_type": "code",
      "source": [
        "SIZE = 256"
      ],
      "metadata": {
        "id": "HY5TN1A0sfKx"
      },
      "execution_count": null,
      "outputs": []
    },
    {
      "cell_type": "code",
      "source": [
        "img = np.zeros((1,SIZE,SIZE,3))\n",
        "mask1 = load_image('../content/drive/MyDrive/Dataset_BUSI_with_GT/benign/benign (100)_mask_1.png', SIZE)\n",
        "mask2 = load_image('../content/drive/MyDrive/Dataset_BUSI_with_GT/benign/benign (100)_mask.png', SIZE)\n",
        "\n",
        "img = img + mask1 + mask2\n",
        "img = img[0,:,:,0]\n",
        "show_image(img, cmap='gray')"
      ],
      "metadata": {
        "colab": {
          "base_uri": "https://localhost:8080/",
          "height": 406
        },
        "id": "op-7aEeLsZ3o",
        "outputId": "e902fad7-bf4f-4443-b7d5-b6fc9752da2d"
      },
      "execution_count": null,
      "outputs": [
        {
          "output_type": "display_data",
          "data": {
            "text/plain": [
              "<Figure size 640x480 with 1 Axes>"
            ],
            "image/png": "[encoded data removed]"
          },
          "metadata": {}
        }
      ]
    },
    {
      "cell_type": "code",
      "source": [
        "# Initialize lists to store image paths, mask paths, and class labels\n",
        "image_paths = []\n",
        "mask_paths = []\n",
        "class_labels = []\n",
        "\n",
        "# Iterate over each class directory\n",
        "for idx, class_name in enumerate(classes):\n",
        "    # Path to the class directory\n",
        "    class_dir = os.path.join(root_path, class_name)\n",
        "\n",
        "    # Get all mask paths in this class directory\n",
        "    mask_files = glob(os.path.join(class_dir, '*_mask*.png'))  # Adjust as per mask file naming conventions\n",
        "\n",
        "    # Extract corresponding image paths from mask paths\n",
        "    for mask_path in mask_files:\n",
        "        # Assuming the image file is named similarly to the mask file without '_mask' or with different mask identifiers\n",
        "        img_path = mask_path.replace('_mask_1.png', '.png').replace('_mask.png', '.png')  # Adjust based on actual naming patterns\n",
        "\n",
        "        # Append to lists\n",
        "        image_paths.append(img_path)\n",
        "        mask_paths.append(mask_path)\n",
        "        class_labels.append(idx)  # Use class index as the label\n",
        "\n",
        "# Now image_paths, mask_paths, and class_labels are populated and synchronized\n",
        "images = load_images(image_paths, SIZE)\n",
        "masks = load_images(mask_paths, SIZE, mask=True)\n",
        "labels= to_categorical(class_labels, num_classes=3)"
      ],
      "metadata": {
        "id": "TTFEluImyRZ0"
      },
      "execution_count": null,
      "outputs": []
    },
    {
      "cell_type": "code",
      "source": [
        "class EncoderBlock(Layer):\n",
        "\n",
        "    def __init__(self, filters, rate, pooling=True, **kwargs):\n",
        "        super(EncoderBlock, self).__init__(**kwargs)\n",
        "\n",
        "        self.filters = filters\n",
        "        self.rate = rate\n",
        "        self.pooling = pooling\n",
        "\n",
        "        self.c1 = Conv2D(filters, kernel_size=3, strides=1, padding='same', activation='relu', kernel_initializer='he_normal')\n",
        "        self.drop = Dropout(rate)\n",
        "        self.c2 = Conv2D(filters, kernel_size=3, strides=1, padding='same', activation='relu', kernel_initializer='he_normal')\n",
        "        self.pool = MaxPool2D()\n",
        "\n",
        "    def call(self, X):\n",
        "        x = self.c1(X)\n",
        "        x = self.drop(x)\n",
        "        x = self.c2(x)\n",
        "        if self.pooling:\n",
        "            y = self.pool(x)\n",
        "            return y, x\n",
        "        else:\n",
        "            return x\n",
        "\n",
        "    def get_config(self):\n",
        "        base_config = super().get_config()\n",
        "        return {\n",
        "            **base_config,\n",
        "            \"filters\":self.filters,\n",
        "            'rate':self.rate,\n",
        "            'pooling':self.pooling\n",
        "        }"
      ],
      "metadata": {
        "id": "_oUEVR0rshNo"
      },
      "execution_count": null,
      "outputs": []
    },
    {
      "cell_type": "code",
      "source": [
        "class DecoderBlock(Layer):\n",
        "\n",
        "    def __init__(self, filters, rate, **kwargs):\n",
        "        super(DecoderBlock, self).__init__(**kwargs)\n",
        "\n",
        "        self.filters = filters\n",
        "        self.rate = rate\n",
        "\n",
        "        self.up = UpSampling2D()\n",
        "        self.net = EncoderBlock(filters, rate, pooling=False)\n",
        "\n",
        "    def call(self, X):\n",
        "        X, skip_X = X\n",
        "        x = self.up(X)\n",
        "        c_ = concatenate([x, skip_X])\n",
        "        x = self.net(c_)\n",
        "        return x\n",
        "\n",
        "    def get_config(self):\n",
        "        base_config = super().get_config()\n",
        "        return {\n",
        "            **base_config,\n",
        "            \"filters\":self.filters,\n",
        "            'rate':self.rate,\n",
        "        }"
      ],
      "metadata": {
        "id": "7sJqi3iWstak"
      },
      "execution_count": null,
      "outputs": []
    },
    {
      "cell_type": "code",
      "source": [
        "class AttentionGate(Layer):\n",
        "\n",
        "    def __init__(self, filters, bn, **kwargs):\n",
        "        super(AttentionGate, self).__init__(**kwargs)\n",
        "\n",
        "        self.filters = filters\n",
        "        self.bn = bn\n",
        "\n",
        "        self.normal = Conv2D(filters, kernel_size=3, padding='same', activation='relu', kernel_initializer='he_normal')\n",
        "        self.down = Conv2D(filters, kernel_size=3, strides=2, padding='same', activation='relu', kernel_initializer='he_normal')\n",
        "        self.learn = Conv2D(1, kernel_size=1, padding='same', activation='sigmoid')\n",
        "        self.resample = UpSampling2D()\n",
        "        self.BN = BatchNormalization()\n",
        "\n",
        "    def call(self, X):\n",
        "        X, skip_X = X\n",
        "\n",
        "        x = self.normal(X)\n",
        "        skip = self.down(skip_X)\n",
        "        x = Add()([x, skip])\n",
        "        x = self.learn(x)\n",
        "        x = self.resample(x)\n",
        "        f = Multiply()([x, skip_X])\n",
        "        if self.bn:\n",
        "            return self.BN(f)\n",
        "        else:\n",
        "            return f\n",
        "        # return f\n",
        "\n",
        "    def get_config(self):\n",
        "        base_config = super().get_config()\n",
        "        return {\n",
        "            **base_config,\n",
        "            \"filters\":self.filters,\n",
        "            \"bn\":self.bn\n",
        "        }"
      ],
      "metadata": {
        "id": "MVw1kCOmuMC-"
      },
      "execution_count": null,
      "outputs": []
    },
    {
      "cell_type": "code",
      "source": [
        "from tensorflow.keras.callbacks import Callback\n",
        "import numpy as np\n",
        "import matplotlib.pyplot as plt\n",
        "from tf_keras_vis.gradcam import Gradcam\n",
        "from tf_keras_vis.utils import normalize\n",
        "\n",
        "class ShowProgress(Callback):\n",
        "    def __init__(self, model, images, masks, class_labels):\n",
        "        super().__init__()\n",
        "        self.model = model  # Assign the passed 'complete_model' to an instance variable\n",
        "        self.images = images\n",
        "        self.masks = masks\n",
        "        self.class_labels = class_labels\n",
        "\n",
        "    def on_epoch_end(self, epoch, logs=None):\n",
        "        # Randomly select an image from the dataset for visualization\n",
        "        id = np.random.randint(len(self.images))\n",
        "        image = self.images[id]\n",
        "        mask = self.masks[id]\n",
        "        class_label = self.class_labels[id]\n",
        "\n",
        "        # Model prediction for both mask and class\n",
        "        pred_mask, pred_class = self.model.predict(image[np.newaxis, ...])\n",
        "\n",
        "        # Visualization using GradCAM for classification decision explanation\n",
        "        exp = Gradcam(self.model, model_modifier=None, clone=True)\n",
        "        cam = exp(\n",
        "            loss=lambda output: (output[np.argmax(pred_class)]),\n",
        "            seed_input=image[np.newaxis, ...],\n",
        "            layer_name='Attention4'  # Ensure this is a layer in your model\n",
        "        )\n",
        "\n",
        "        # Display the Grad-CAM heatmap\n",
        "        heatmap = np.uint8(255 * normalize(cam))\n",
        "        plt.figure(figsize=(15, 5))\n",
        "\n",
        "        plt.subplot(1, 4, 1)\n",
        "        plt.title(\"Original Image\")\n",
        "        plt.imshow(image)  # Assuming you have a function to display images\n",
        "        plt.axis('off')\n",
        "\n",
        "        plt.subplot(1, 4, 2)\n",
        "        plt.title(\"Original Mask\")\n",
        "        plt.imshow(mask, cmap='copper')  # Assuming mask is an image-like array\n",
        "        plt.axis('off')\n",
        "\n",
        "        plt.subplot(1, 4, 3)\n",
        "        plt.title(\"Predicted Mask\")\n",
        "        plt.imshow(pred_mask[0, ..., 0], cmap='copper')  # Assuming pred_mask is a single-channel mask\n",
        "        plt.axis('off')\n",
        "\n",
        "        plt.subplot(1, 4, 4)\n",
        "        plt.title(\"GradCAM\")\n",
        "        plt.imshow(cam, cmap='jet')  # Display the GradCAM heatmap\n",
        "        plt.axis('off')\n",
        "\n",
        "        plt.tight_layout()\n",
        "        plt.show()\n",
        "\n",
        "        # Optionally, print additional information\n",
        "        if 'classification_output_accuracy' in logs:\n",
        "            print(f\"Epoch {epoch+1}: Classification Accuracy: {logs['classification_output_accuracy']:.2f}\")\n",
        "\n",
        "progress_callback = ShowProgress(complete_model, images, masks, class_labels)"
      ],
      "metadata": {
        "id": "DqVYb0EhuPE-"
      },
      "execution_count": null,
      "outputs": []
    },
    {
      "cell_type": "code",
      "source": [
        "from keras.layers import Dense, GlobalAveragePooling2D, Dropout\n",
        "# Inputs\n",
        "input_layer = Input(shape=images.shape[-3:])\n",
        "\n",
        "# Encoder\n",
        "p1, c1 = EncoderBlock(32,0.1, name=\"Encoder1\")(input_layer)\n",
        "p2, c2 = EncoderBlock(64,0.1, name=\"Encoder2\")(p1)\n",
        "p3, c3 = EncoderBlock(128,0.2, name=\"Encoder3\")(p2)\n",
        "p4, c4 = EncoderBlock(256,0.2, name=\"Encoder4\")(p3)\n",
        "\n",
        "# Encoding\n",
        "encoding = EncoderBlock(512,0.3, pooling=False, name=\"Encoding\")(p4)\n",
        "\n",
        "gap = GlobalAveragePooling2D(name='global_average_pooling')(encoding)\n",
        "dropout = Dropout(0.5, name='dropout')(gap)\n",
        "classification_output = Dense(3, activation='softmax', name='classification_output')(dropout)\n",
        "\n",
        "\n",
        "# Attention + Decoder\n",
        "\n",
        "a1 = AttentionGate(256, bn=True, name=\"Attention1\")([encoding, c4])\n",
        "d1 = DecoderBlock(256,0.2, name=\"Decoder1\")([encoding, a1])\n",
        "\n",
        "a2 = AttentionGate(128, bn=True, name=\"Attention2\")([d1, c3])\n",
        "d2 = DecoderBlock(128,0.2, name=\"Decoder2\")([d1, a2])\n",
        "\n",
        "a3 = AttentionGate(64, bn=True, name=\"Attention3\")([d2, c2])\n",
        "d3 = DecoderBlock(64,0.1, name=\"Decoder3\")([d2, a3])\n",
        "\n",
        "\n",
        "a4 = AttentionGate(32, bn=True, name=\"Attention4\")([d3, c1])\n",
        "d4 = DecoderBlock(32,0.1, name=\"Decoder4\")([d3, a4])\n",
        "\n",
        "# Output\n",
        "output_layer = Conv2D(1, kernel_size=1, activation='sigmoid', padding='same', name='output_layer')(d4)\n",
        "complete_model = Model(inputs=input_layer, outputs=[output_layer, classification_output])\n",
        "\n",
        "# Compile the new model with separate loss functions for each output and combined metrics\n",
        "complete_model.compile(\n",
        "    optimizer='adam',\n",
        "    loss={'output_layer': 'binary_crossentropy', 'classification_output': 'categorical_crossentropy'},\n",
        "    metrics={'output_layer': ['accuracy', MeanIoU(num_classes=2)], 'classification_output': ['accuracy']}\n",
        ")\n",
        "\n",
        "# Print the model summary\n",
        "complete_model.summary()\n",
        "callbacks = [\n",
        "    EarlyStopping(patience=15, restore_best_weights=True, monitor='val_loss'),\n",
        "    ModelCheckpoint(\"DualOutputUNet_model.keras\", save_best_only=True, monitor='val_loss'),\n",
        "    ReduceLROnPlateau(factor=0.5, patience=5, min_lr=0.00001, verbose=1) , # Reduces learning rate when a metric has stopped improving\n",
        "progress_callback\n",
        "]\n",
        "\n"
      ],
      "metadata": {
        "colab": {
          "base_uri": "https://localhost:8080/"
        },
        "id": "c0GfZJRdu1fr",
        "outputId": "30820807-8ecd-49f4-9371-96d0b4cb81f8"
      },
      "execution_count": null,
      "outputs": [
        {
          "output_type": "stream",
          "name": "stdout",
          "text": [
            "Model: \"model_2\"\n",
            "__________________________________________________________________________________________________\n",
            " Layer (type)                Output Shape                 Param #   Connected to                  \n",
            "==================================================================================================\n",
            " input_3 (InputLayer)        [(None, 256, 256, 3)]        0         []                            \n",
            "                                                                                                  \n",
            " Encoder1 (EncoderBlock)     ((None, 128, 128, 32),       10144     ['input_3[0][0]']             \n",
            "                              (None, 256, 256, 32))                                               \n",
            "                                                                                                  \n",
            " Encoder2 (EncoderBlock)     ((None, 64, 64, 64),         55424     ['Encoder1[0][0]']            \n",
            "                              (None, 128, 128, 64))                                               \n",
            "                                                                                                  \n",
            " Encoder3 (EncoderBlock)     ((None, 32, 32, 128),        221440    ['Encoder2[0][0]']            \n",
            "                              (None, 64, 64, 128))                                                \n",
            "                                                                                                  \n",
            " Encoder4 (EncoderBlock)     ((None, 16, 16, 256),        885248    ['Encoder3[0][0]']            \n",
            "                              (None, 32, 32, 256))                                                \n",
            "                                                                                                  \n",
            " Encoding (EncoderBlock)     (None, 16, 16, 512)          3539968   ['Encoder4[0][0]']            \n",
            "                                                                                                  \n",
            " Attention1 (AttentionGate)  (None, 32, 32, 256)          1771265   ['Encoding[0][0]',            \n",
            "                                                                     'Encoder4[0][1]']            \n",
            "                                                                                                  \n",
            " Decoder1 (DecoderBlock)     (None, 32, 32, 256)          2359808   ['Encoding[0][0]',            \n",
            "                                                                     'Attention1[0][0]']          \n",
            "                                                                                                  \n",
            " Attention2 (AttentionGate)  (None, 64, 64, 128)          443265    ['Decoder1[0][0]',            \n",
            "                                                                     'Encoder3[0][1]']            \n",
            "                                                                                                  \n",
            " Decoder2 (DecoderBlock)     (None, 64, 64, 128)          590080    ['Decoder1[0][0]',            \n",
            "                                                                     'Attention2[0][0]']          \n",
            "                                                                                                  \n",
            " Attention3 (AttentionGate)  (None, 128, 128, 64)         111041    ['Decoder2[0][0]',            \n",
            "                                                                     'Encoder2[0][1]']            \n",
            "                                                                                                  \n",
            " Decoder3 (DecoderBlock)     (None, 128, 128, 64)         147584    ['Decoder2[0][0]',            \n",
            "                                                                     'Attention3[0][0]']          \n",
            "                                                                                                  \n",
            " Attention4 (AttentionGate)  (None, 256, 256, 32)         27873     ['Decoder3[0][0]',            \n",
            "                                                                     'Encoder1[0][1]']            \n",
            "                                                                                                  \n",
            " global_average_pooling (Gl  (None, 512)                  0         ['Encoding[0][0]']            \n",
            " obalAveragePooling2D)                                                                            \n",
            "                                                                                                  \n",
            " Decoder4 (DecoderBlock)     (None, 256, 256, 32)         36928     ['Decoder3[0][0]',            \n",
            "                                                                     'Attention4[0][0]']          \n",
            "                                                                                                  \n",
            " dropout (Dropout)           (None, 512)                  0         ['global_average_pooling[0][0]\n",
            "                                                                    ']                            \n",
            "                                                                                                  \n",
            " output_layer (Conv2D)       (None, 256, 256, 1)          33        ['Decoder4[0][0]']            \n",
            "                                                                                                  \n",
            " classification_output (Den  (None, 3)                    1539      ['dropout[0][0]']             \n",
            " se)                                                                                              \n",
            "                                                                                                  \n",
            "==================================================================================================\n",
            "Total params: 10201640 (38.92 MB)\n",
            "Trainable params: 10200680 (38.91 MB)\n",
            "Non-trainable params: 960 (3.75 KB)\n",
            "__________________________________________________________________________________________________\n"
          ]
        }
      ]
    },
    {
      "cell_type": "markdown",
      "source": [
        "Experimental Training"
      ],
      "metadata": {
        "id": "gAoJ_PyZ4g4_"
      }
    },
    {
      "cell_type": "code",
      "source": [
        "from tensorflow.keras.utils import to_categorical\n",
        "from sklearn.model_selection import train_test_split\n",
        "\n",
        "# Assuming 'images' and 'masks' are your image and mask arrays respectively\n",
        "# and 'class_labels' is a list of categorical labels for classification\n",
        "\n",
        "# Convert class labels to one-hot encoding\n",
        "class_labels_categorical = to_categorical(class_labels, num_classes=3)  # Adjust 'num_classes' as per your dataset\n",
        "\n",
        "# Split data into training and validation sets\n",
        "X_train, X_val, y_train_mask, y_val_mask, y_train_class, y_val_class = train_test_split(\n",
        "    images, masks, class_labels_categorical, test_size=0.2, random_state=42)\n"
      ],
      "metadata": {
        "id": "9uQ4uNy0INgI"
      },
      "execution_count": null,
      "outputs": []
    },
    {
      "cell_type": "code",
      "source": [
        "# Data Generators\n",
        "# Define a simple image data generator for data augmentation\n",
        "from tensorflow.keras.preprocessing.image import ImageDataGenerator\n",
        "\n",
        "data_gen_args = dict(\n",
        "    rotation_range=10,\n",
        "    width_shift_range=0.1,\n",
        "    height_shift_range=0.1,\n",
        "    shear_range=0.1,\n",
        "    zoom_range=0.1,\n",
        "    horizontal_flip=True,\n",
        "    fill_mode='nearest'\n",
        ")\n",
        "\n",
        "image_datagen = ImageDataGenerator(**data_gen_args)\n",
        "mask_datagen = ImageDataGenerator(**data_gen_args)\n",
        "class_datagen = ImageDataGenerator(**data_gen_args)  # No augmentation for class labels\n",
        "\n",
        "# Provide the same seed and keyword arguments to the fit and flow methods\n",
        "seed = 1\n",
        "image_datagen.fit(X_train, augment=True, seed=seed)\n",
        "mask_datagen.fit(y_train_mask, augment=True, seed=seed)"
      ],
      "metadata": {
        "id": "P36gotCPIYq1"
      },
      "execution_count": null,
      "outputs": []
    },
    {
      "cell_type": "code",
      "source": [
        "\n",
        "def combined_generator(image_gen, mask_gen, class_gen):\n",
        "    while True:\n",
        "        # Get the next batch from each generator\n",
        "        x_img_batch, x_class_batch = next(image_gen)\n",
        "        y_mask_batch = next(mask_gen)\n",
        "\n",
        "        # Yield a combined batch (input, output)\n",
        "        yield (x_img_batch, {'output_layer': y_mask_batch, 'classification_output': x_class_batch})\n",
        "\n",
        "# Set up generators for training and validation\n",
        "train_image_gen = image_datagen.flow(X_train, y_train_class, batch_size=8, seed=seed)\n",
        "train_mask_gen = mask_datagen.flow(y_train_mask, batch_size=8, seed=seed)\n",
        "\n",
        "val_image_gen = image_datagen.flow(X_val, y_val_class, batch_size=8, seed=seed)\n",
        "val_mask_gen = mask_datagen.flow(y_val_mask, batch_size=8, seed=seed)\n",
        "\n",
        "# Create combined generators\n",
        "train_generator = combined_generator(train_image_gen, train_mask_gen, train_image_gen)\n",
        "val_generator = combined_generator(val_image_gen, val_mask_gen, val_image_gen)"
      ],
      "metadata": {
        "id": "ylOVdT-yIe50"
      },
      "execution_count": null,
      "outputs": []
    },
    {
      "cell_type": "code",
      "source": [
        "from tensorflow.keras.callbacks import ModelCheckpoint, EarlyStopping\n",
        "\n",
        "# Model Training\n",
        "history = complete_model.fit(\n",
        "    train_generator,\n",
        "    steps_per_epoch=len(X_train) // 8,\n",
        "    validation_data=val_generator,\n",
        "    validation_steps=len(X_val) // 8,\n",
        "    epochs=50,  # Adjust the number of epochs as needed\n",
        "    callbacks=callbacks\n",
        ")\n",
        "\n",
        "# Save the final trained model (optional if ModelCheckpoint is used)\n",
        "complete_model.save(\"final_model.keras\")\n",
        "\n",
        "# Plot Training and Validation Accuracy and Loss\n",
        "import matplotlib.pyplot as plt\n",
        "\n",
        "def plot_training_history(history):\n",
        "    fig, ax = plt.subplots(1, 2, figsize=(12, 5))\n",
        "\n",
        "    # Plot training & validation accuracy values\n",
        "    ax[0].plot(history.history['output_layer_accuracy'])\n",
        "    ax[0].plot(history.history['val_output_layer_accuracy'])\n",
        "    ax[0].set_title('Model Segmentation Accuracy')\n",
        "    ax[0].set_ylabel('Accuracy')\n",
        "    ax[0].set_xlabel('Epoch')\n",
        "    ax[0].legend(['Train', 'Validation'], loc='upper left')\n",
        "\n",
        "    # Plot training & validation loss values\n",
        "    ax[1].plot(history.history['loss'])\n",
        "    ax[1].plot(history.history['val_loss'])\n",
        "    ax[1].set_title('Model Loss')\n",
        "    ax[1].set_ylabel('Loss')\n",
        "    ax[1].set_xlabel('Epoch')\n",
        "    ax[1].legend(['Train', 'Validation'], loc='upper left')\n",
        "\n",
        "    plt.tight_layout()\n",
        "    plt.show()\n",
        "\n",
        "plot_training_history(history)\n"
      ],
      "metadata": {
        "colab": {
          "base_uri": "https://localhost:8080/",
          "height": 1000
        },
        "id": "yQvjVeGTIgAv",
        "outputId": "d77464ff-6d00-42ca-a459-56476e29bdf8"
      },
      "execution_count": null,
      "outputs": [
        {
          "output_type": "stream",
          "name": "stdout",
          "text": [
            "Epoch 1/50\n",
            "79/79 [==============================] - 27s 347ms/step - loss: 1.2305 - output_layer_loss: 0.2299 - classification_output_loss: 1.0006 - output_layer_accuracy: 0.9185 - output_layer_mean_io_u_1: 0.4626 - classification_output_accuracy: 0.5635 - val_loss: 1.2641 - val_output_layer_loss: 0.2450 - val_classification_output_loss: 1.0191 - val_output_layer_accuracy: 0.9282 - val_output_layer_mean_io_u_1: 0.4670 - val_classification_output_accuracy: 0.5375\n",
            "Epoch 2/50\n",
            "79/79 [==============================] - 28s 354ms/step - loss: 1.1932 - output_layer_loss: 0.2212 - classification_output_loss: 0.9720 - output_layer_accuracy: 0.9187 - output_layer_mean_io_u_1: 0.4626 - classification_output_accuracy: 0.5841 - val_loss: 1.2005 - val_output_layer_loss: 0.2513 - val_classification_output_loss: 0.9492 - val_output_layer_accuracy: 0.9296 - val_output_layer_mean_io_u_1: 0.4679 - val_classification_output_accuracy: 0.5813\n",
            "Epoch 3/50\n",
            "79/79 [==============================] - 27s 341ms/step - loss: 1.2085 - output_layer_loss: 0.2276 - classification_output_loss: 0.9810 - output_layer_accuracy: 0.9161 - output_layer_mean_io_u_1: 0.4615 - classification_output_accuracy: 0.5714 - val_loss: 1.1993 - val_output_layer_loss: 0.2071 - val_classification_output_loss: 0.9922 - val_output_layer_accuracy: 0.9361 - val_output_layer_mean_io_u_1: 0.4708 - val_classification_output_accuracy: 0.5562\n",
            "Epoch 4/50\n",
            "79/79 [==============================] - 27s 337ms/step - loss: 1.1860 - output_layer_loss: 0.2129 - classification_output_loss: 0.9731 - output_layer_accuracy: 0.9192 - output_layer_mean_io_u_1: 0.4628 - classification_output_accuracy: 0.5794 - val_loss: 1.2782 - val_output_layer_loss: 0.2166 - val_classification_output_loss: 1.0617 - val_output_layer_accuracy: 0.9297 - val_output_layer_mean_io_u_1: 0.4680 - val_classification_output_accuracy: 0.4750\n",
            "Epoch 5/50\n",
            "79/79 [==============================] - 28s 351ms/step - loss: 1.1776 - output_layer_loss: 0.2027 - classification_output_loss: 0.9748 - output_layer_accuracy: 0.9237 - output_layer_mean_io_u_1: 0.4619 - classification_output_accuracy: 0.5714 - val_loss: 1.1423 - val_output_layer_loss: 0.1942 - val_classification_output_loss: 0.9481 - val_output_layer_accuracy: 0.9330 - val_output_layer_mean_io_u_1: 0.4694 - val_classification_output_accuracy: 0.5875\n",
            "Epoch 6/50\n",
            "79/79 [==============================] - 27s 336ms/step - loss: 1.1820 - output_layer_loss: 0.2103 - classification_output_loss: 0.9717 - output_layer_accuracy: 0.9215 - output_layer_mean_io_u_1: 0.4624 - classification_output_accuracy: 0.5778 - val_loss: 1.1984 - val_output_layer_loss: 0.1944 - val_classification_output_loss: 1.0040 - val_output_layer_accuracy: 0.9272 - val_output_layer_mean_io_u_1: 0.4683 - val_classification_output_accuracy: 0.5188\n",
            "Epoch 7/50\n",
            "79/79 [==============================] - 27s 339ms/step - loss: 1.1717 - output_layer_loss: 0.2019 - classification_output_loss: 0.9698 - output_layer_accuracy: 0.9225 - output_layer_mean_io_u_1: 0.4624 - classification_output_accuracy: 0.5759 - val_loss: 1.3011 - val_output_layer_loss: 0.2846 - val_classification_output_loss: 1.0165 - val_output_layer_accuracy: 0.9282 - val_output_layer_mean_io_u_1: 0.4670 - val_classification_output_accuracy: 0.5312\n",
            "Epoch 8/50\n",
            "79/79 [==============================] - 26s 332ms/step - loss: 1.1809 - output_layer_loss: 0.2115 - classification_output_loss: 0.9693 - output_layer_accuracy: 0.9205 - output_layer_mean_io_u_1: 0.4610 - classification_output_accuracy: 0.5746 - val_loss: 1.2605 - val_output_layer_loss: 0.2871 - val_classification_output_loss: 0.9734 - val_output_layer_accuracy: 0.9306 - val_output_layer_mean_io_u_1: 0.4683 - val_classification_output_accuracy: 0.5688\n",
            "Epoch 9/50\n",
            "79/79 [==============================] - 26s 324ms/step - loss: 1.1661 - output_layer_loss: 0.1976 - classification_output_loss: 0.9686 - output_layer_accuracy: 0.9261 - output_layer_mean_io_u_1: 0.4626 - classification_output_accuracy: 0.5746 - val_loss: 1.2065 - val_output_layer_loss: 0.2138 - val_classification_output_loss: 0.9926 - val_output_layer_accuracy: 0.9375 - val_output_layer_mean_io_u_1: 0.4716 - val_classification_output_accuracy: 0.5437\n",
            "Epoch 10/50\n",
            "79/79 [==============================] - 25s 311ms/step - loss: 1.1712 - output_layer_loss: 0.1995 - classification_output_loss: 0.9717 - output_layer_accuracy: 0.9238 - output_layer_mean_io_u_1: 0.4618 - classification_output_accuracy: 0.5698 - val_loss: 1.1961 - val_output_layer_loss: 0.1999 - val_classification_output_loss: 0.9962 - val_output_layer_accuracy: 0.9196 - val_output_layer_mean_io_u_1: 0.4660 - val_classification_output_accuracy: 0.5375\n",
            "Epoch 11/50\n",
            "79/79 [==============================] - 27s 337ms/step - loss: 1.1607 - output_layer_loss: 0.1918 - classification_output_loss: 0.9689 - output_layer_accuracy: 0.9262 - output_layer_mean_io_u_1: 0.4629 - classification_output_accuracy: 0.5810 - val_loss: 1.1738 - val_output_layer_loss: 0.1733 - val_classification_output_loss: 1.0005 - val_output_layer_accuracy: 0.9382 - val_output_layer_mean_io_u_1: 0.4691 - val_classification_output_accuracy: 0.5312\n",
            "Epoch 12/50\n",
            "79/79 [==============================] - 27s 336ms/step - loss: 1.1712 - output_layer_loss: 0.1966 - classification_output_loss: 0.9746 - output_layer_accuracy: 0.9261 - output_layer_mean_io_u_1: 0.4621 - classification_output_accuracy: 0.5667 - val_loss: 1.2851 - val_output_layer_loss: 0.2974 - val_classification_output_loss: 0.9878 - val_output_layer_accuracy: 0.9327 - val_output_layer_mean_io_u_1: 0.4693 - val_classification_output_accuracy: 0.5562\n",
            "Epoch 13/50\n",
            "79/79 [==============================] - 26s 335ms/step - loss: 1.1465 - output_layer_loss: 0.1938 - classification_output_loss: 0.9527 - output_layer_accuracy: 0.9260 - output_layer_mean_io_u_1: 0.4613 - classification_output_accuracy: 0.5841 - val_loss: 1.6669 - val_output_layer_loss: 0.2939 - val_classification_output_loss: 1.3730 - val_output_layer_accuracy: 0.8661 - val_output_layer_mean_io_u_1: 0.4690 - val_classification_output_accuracy: 0.5437\n",
            "Epoch 14/50\n",
            "79/79 [==============================] - 25s 313ms/step - loss: 1.1900 - output_layer_loss: 0.2084 - classification_output_loss: 0.9816 - output_layer_accuracy: 0.9213 - output_layer_mean_io_u_1: 0.4617 - classification_output_accuracy: 0.5730 - val_loss: 1.2044 - val_output_layer_loss: 0.2014 - val_classification_output_loss: 1.0030 - val_output_layer_accuracy: 0.9354 - val_output_layer_mean_io_u_1: 0.4689 - val_classification_output_accuracy: 0.5437\n",
            "Epoch 15/50\n",
            "79/79 [==============================] - 26s 336ms/step - loss: 1.1667 - output_layer_loss: 0.1930 - classification_output_loss: 0.9737 - output_layer_accuracy: 0.9264 - output_layer_mean_io_u_1: 0.4625 - classification_output_accuracy: 0.5762 - val_loss: 1.3853 - val_output_layer_loss: 0.3702 - val_classification_output_loss: 1.0151 - val_output_layer_accuracy: 0.8023 - val_output_layer_mean_io_u_1: 0.4700 - val_classification_output_accuracy: 0.5125\n"
          ]
        },
        {
          "output_type": "display_data",
          "data": {
            "text/plain": [
              "<Figure size 1200x500 with 2 Axes>"
            ],
            "image/png": "[encoded data removed]"
          },
          "metadata": {}
        }
      ]
    }
  ]
}